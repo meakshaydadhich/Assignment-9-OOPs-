{
 "cells": [
  {
   "cell_type": "code",
   "execution_count": 1,
   "id": "43c8144d",
   "metadata": {},
   "outputs": [],
   "source": [
    "# Q-1 What is Abstraction in OOps? Explain with an example.\n",
    "\n",
    "# Ans. Your car is a great example of abstraction. You can start a car by turning the key or pressing the start button.\n",
    "#      You don’t need to know how the engine is getting started, what all components your car has. The car internal \n",
    "#      implementation and complex logic is completely hidden from the user.\n",
    "\n",
    "#      Objects are the building blocks of Object-Oriented Programming. An object contains some properties and methods.\n",
    "#      We can hide them from the outer world through access modifiers. We can provide access only for required functions and\n",
    "#      properties to the other programs. This is the general procedure to implement abstraction in OOPS.\n",
    "\n",
    "#      There are two types of abstraction.\n",
    "\n",
    "#      There are two types of abstraction.\n",
    "#   1- Data Abstraction\n",
    "#   2- Process Abstraction"
   ]
  },
  {
   "cell_type": "code",
   "execution_count": 2,
   "id": "651bf881",
   "metadata": {},
   "outputs": [],
   "source": [
    "# Q-2 Differentiate between Abstraction and Encapsulation. Explain with an example.\n",
    "\n",
    "# Ans. Abstraction :- is defined as a process of hiding the implementation details of a system from the user. Thus, \n",
    "#      by using abstraction, we provided only the functionality of the system to the user. Consequently, the user will have\n",
    "#      information on what the system does, but not on how the system does it.\n",
    "\n",
    "#     For example, when we consider the case of a search on google, complex details such as what happens as soon as we search\n",
    "#     about a query, the protocol our web server uses are hidden. Therefore, to make a search on google we just need to type \n",
    "#     the query, and click on the search button. \n",
    "\n",
    "#     Encapsulation :- is one of the fundamental OOP concepts. Encapsulation is defined as a method by which data wrapping is done\n",
    "#     into a single unit. It is used in wrapping up the data and the code acting on the data together as a single unit.\n",
    "\n",
    "#     In encapsulation, the variables of a class are hidden from other classes, and can be accessed only by methods of the \n",
    "#     current class. Therefore, encapsulation is also called data hiding. Encapsulation is implemented using access modifiers\n",
    "#     like public, private and protected."
   ]
  },
  {
   "cell_type": "code",
   "execution_count": 4,
   "id": "800c7051",
   "metadata": {},
   "outputs": [],
   "source": [
    "# Q-3 What is abc module in python? Why is it used?\n",
    "\n",
    "# Ans. In Python, the abc module provides a way to define abstract classes and methods, which is essential for building\n",
    "#      scalable and flexible applications."
   ]
  },
  {
   "cell_type": "code",
   "execution_count": 5,
   "id": "c72e888c",
   "metadata": {},
   "outputs": [],
   "source": [
    "# Q-4 How can we achieve data abstraction?\n",
    "\n",
    "# Ans. We can achieve data abstraction through Abstract classes and interfaces. Through abstract classes, you can achieve \n",
    "#      partial or complete abstraction as abstract classes contain methods that have an implementation which can result in \n",
    "#      partial abstraction."
   ]
  },
  {
   "cell_type": "code",
   "execution_count": null,
   "id": "c2bf4833",
   "metadata": {},
   "outputs": [],
   "source": [
    "# Q-5 Can we create an instance of an abstract class? Explain your answer.\n",
    "\n",
    "# Ans. Abstract classes cannot be instantiated, but they can be subclassed. When an abstract class is subclassed, the\n",
    "#      subclass usually provides implementations for all of the abstract methods in its parent class. However, if it does not,\n",
    "#      then the subclass must also be declared abstract"
   ]
  }
 ],
 "metadata": {
  "kernelspec": {
   "display_name": "Python 3 (ipykernel)",
   "language": "python",
   "name": "python3"
  },
  "language_info": {
   "codemirror_mode": {
    "name": "ipython",
    "version": 3
   },
   "file_extension": ".py",
   "mimetype": "text/x-python",
   "name": "python",
   "nbconvert_exporter": "python",
   "pygments_lexer": "ipython3",
   "version": "3.10.9"
  }
 },
 "nbformat": 4,
 "nbformat_minor": 5
}
